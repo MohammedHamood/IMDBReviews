{
  "nbformat": 4,
  "nbformat_minor": 0,
  "metadata": {
    "colab": {
      "provenance": [],
      "include_colab_link": true
    },
    "kernelspec": {
      "name": "python3",
      "display_name": "Python 3"
    }
  },
  "cells": [
    {
      "cell_type": "markdown",
      "metadata": {
        "id": "view-in-github",
        "colab_type": "text"
      },
      "source": [
        "<a href=\"https://colab.research.google.com/github/MohammedHamood/IMDBReviews/blob/main/IMDBReviews_AB_SVM.ipynb\" target=\"_parent\"><img src=\"https://colab.research.google.com/assets/colab-badge.svg\" alt=\"Open In Colab\"/></a>"
      ]
    },
    {
      "cell_type": "markdown",
      "metadata": {
        "id": "8V6AJjzpYC1p"
      },
      "source": [
        "# IMDB Reviews - AdaBoost with Support Vector Machines"
      ]
    },
    {
      "cell_type": "markdown",
      "metadata": {
        "id": "b5elUUlWYFzl"
      },
      "source": [
        "## Data Pre-Processing"
      ]
    },
    {
      "cell_type": "code",
      "metadata": {
        "id": "AAuhZuaSX3nA",
        "outputId": "084e219e-4932-41d9-c905-5e1518ff2302",
        "colab": {
          "base_uri": "https://localhost:8080/",
          "height": 239
        }
      },
      "source": [
        "import pandas as pd\n",
        "import nltk\n",
        "nltk.download('stopwords')\n",
        "nltk.download('punkt')\n",
        "nltk.download('wordnet')\n",
        "import preprocessingNLP as PNLP\n",
        "import numpy as np\n",
        "import time\n",
        "import matplotlib.pyplot as plt\n",
        "from sklearn.datasets import fetch_20newsgroups\n",
        "from sklearn.naive_bayes import MultinomialNB\n",
        "from sklearn.linear_model import LogisticRegression\n",
        "from sklearn.svm import LinearSVC\n",
        "from sklearn.ensemble import AdaBoostClassifier\n",
        "from sklearn.ensemble import RandomForestClassifier\n",
        "from sklearn.naive_bayes import MultinomialNB\n",
        "from sklearn.discriminant_analysis import LinearDiscriminantAnalysis\n",
        "from sklearn.tree import DecisionTreeClassifier\n",
        "from sklearn.decomposition import PCA, NMF, TruncatedSVD\n",
        "from sklearn.feature_selection import SelectKBest, chi2\n",
        "from sklearn.datasets import load_files\n",
        "from sklearn.feature_extraction.text import CountVectorizer,TfidfTransformer\n",
        "from sklearn.pipeline import Pipeline\n",
        "from sklearn.model_selection import GridSearchCV, RandomizedSearchCV, cross_val_score\n",
        "from sklearn.preprocessing import Normalizer\n",
        "\n",
        "# Import Dataset\n",
        "print(\"Downloading Dataset ...\")\n",
        "!wget -nv \"http://ai.stanford.edu/~amaas/data/sentiment/aclImdb_v1.tar.gz\"\n",
        "!tar -xf aclImdb_v1.tar.gz\n",
        "IMDB_train = load_files('aclImdb/train/', categories=(\"pos\", \"neg\"), encoding='utf-8')\n",
        "IMDB_test = load_files('aclImdb/test/', categories=('pos', 'neg'), encoding='utf-8')\n",
        "print(\"Dataset Downloaded\")\n",
        "\n",
        "# Preprocessing\n",
        "print(\"PREPROCESSING ...\")\n",
        "IMDB_train.data = PNLP.customNLP(IMDB_train.data)\n",
        "IMDB_test.data = PNLP.customNLP(IMDB_test.data)\n",
        "IMDB_train.data, IMDB_train.target = PNLP.removeEmptyInstances(IMDB_train.data, IMDB_train.target)\n",
        "print(\"PREPROCESSING DONE!\")"
      ],
      "execution_count": null,
      "outputs": [
        {
          "output_type": "stream",
          "text": [
            "[nltk_data] Downloading package stopwords to /root/nltk_data...\n",
            "[nltk_data]   Unzipping corpora/stopwords.zip.\n",
            "[nltk_data] Downloading package punkt to /root/nltk_data...\n",
            "[nltk_data]   Unzipping tokenizers/punkt.zip.\n",
            "[nltk_data] Downloading package wordnet to /root/nltk_data...\n",
            "[nltk_data]   Unzipping corpora/wordnet.zip.\n",
            "Downloading Dataset ...\n",
            "2020-03-12 19:22:55 URL:http://ai.stanford.edu/~amaas/data/sentiment/aclImdb_v1.tar.gz [84125825/84125825] -> \"aclImdb_v1.tar.gz\" [1]\n",
            "Dataset Downloaded\n",
            "PREPROCESSING ...\n",
            "PREPROCESSING DONE!\n"
          ],
          "name": "stdout"
        }
      ]
    },
    {
      "cell_type": "markdown",
      "metadata": {
        "id": "2CUAdPTeYg2t"
      },
      "source": [
        "## Setting Hyper-Parameters"
      ]
    },
    {
      "cell_type": "markdown",
      "metadata": {
        "id": "6w8pfyIIYtxB"
      },
      "source": [
        "In the following section, RandomSearchCV is used to evaluate the validation set accuracy of AdaBoost based on random combinations of hyper-parameters used in the validation pipeline. The relevant parameters needed are ngram_range for CountVectorizer and use_idf for TfidfTransformer. AdaBoostClassifier is used with its default attributes except for base_estimator, where LinearSVC is applied with its optimal parameters."
      ]
    },
    {
      "cell_type": "code",
      "metadata": {
        "id": "gtpkw21ZYrzF",
        "outputId": "882a488b-63de-4560-8c5a-433ee0ec2569",
        "colab": {
          "base_uri": "https://localhost:8080/",
          "height": 568
        }
      },
      "source": [
        "# Define parameters\n",
        "parameters = {\n",
        "     'vect__ngram_range': ((1, 1), (1, 2), (1, 3)),\n",
        "     'tfidf__use_idf': (True, False),\n",
        "}\n",
        "\n",
        "# Create a pipeline\n",
        "pip = Pipeline([('vect', CountVectorizer()),\n",
        "                ('tfidf', TfidfTransformer()),\n",
        "                ('Norm', Normalizer(copy=False)),\n",
        "                ('clf', AdaBoostClassifier(base_estimator=LinearSVC(\n",
        "                    penalty='l2', dual=True, tol=0.1, C=100), algorithm='SAMME'))])\n",
        "\n",
        "# Initialize RandomizedSearchCV\n",
        "n_iter_search = 6\n",
        "cv_folds = 3\n",
        "Ada_SVM_rand_search = RandomizedSearchCV(pip, param_distributions=parameters, \n",
        "                               n_iter=n_iter_search, cv=cv_folds)\n",
        "\n",
        "# Utility function to report best scores\n",
        "def report(results, n_top=10):\n",
        "    for i in range(1, n_top + 1):\n",
        "        candidates = np.flatnonzero(results['rank_test_score'] == i)\n",
        "        for candidate in candidates:\n",
        "            print(\"Model with rank: {0}\".format(i))\n",
        "            print(\"Mean validation score: {0:.3f} (std: {1:.3f})\"\n",
        "                  .format(results['mean_test_score'][candidate],\n",
        "                          results['std_test_score'][candidate]))\n",
        "            print(\"Parameters: {0}\".format(results['params'][candidate]))\n",
        "            print(\"Mean Fit Time: %.3f seconds\" %results['mean_fit_time'][candidate])\n",
        "            print(\"\")\n",
        "\n",
        "# Execute RandomizedSearchCV and print best results\n",
        "Ada_SVM_rand_search.fit(IMDB_train.data, IMDB_train.target)\n",
        "report(Ada_SVM_rand_search.cv_results_)"
      ],
      "execution_count": null,
      "outputs": [
        {
          "output_type": "stream",
          "text": [
            "Model with rank: 1\n",
            "Mean validation score: 0.875 (std: 0.002)\n",
            "Parameters: {'vect__ngram_range': (1, 2), 'tfidf__use_idf': True}\n",
            "Mean Fit Time: 23.671 seconds\n",
            "\n",
            "Model with rank: 2\n",
            "Mean validation score: 0.873 (std: 0.004)\n",
            "Parameters: {'vect__ngram_range': (1, 3), 'tfidf__use_idf': True}\n",
            "Mean Fit Time: 44.301 seconds\n",
            "\n",
            "Model with rank: 3\n",
            "Mean validation score: 0.867 (std: 0.003)\n",
            "Parameters: {'vect__ngram_range': (1, 3), 'tfidf__use_idf': False}\n",
            "Mean Fit Time: 43.193 seconds\n",
            "\n",
            "Model with rank: 4\n",
            "Mean validation score: 0.867 (std: 0.003)\n",
            "Parameters: {'vect__ngram_range': (1, 2), 'tfidf__use_idf': False}\n",
            "Mean Fit Time: 21.996 seconds\n",
            "\n",
            "Model with rank: 5\n",
            "Mean validation score: 0.860 (std: 0.001)\n",
            "Parameters: {'vect__ngram_range': (1, 1), 'tfidf__use_idf': True}\n",
            "Mean Fit Time: 5.736 seconds\n",
            "\n",
            "Model with rank: 6\n",
            "Mean validation score: 0.857 (std: 0.002)\n",
            "Parameters: {'vect__ngram_range': (1, 1), 'tfidf__use_idf': False}\n",
            "Mean Fit Time: 5.810 seconds\n",
            "\n"
          ],
          "name": "stdout"
        }
      ]
    },
    {
      "cell_type": "markdown",
      "metadata": {
        "id": "xz4Ou6-Ndpnc"
      },
      "source": [
        "These results show a brief idea of the required parameters for CountVectorizer and TfidfTransformer.\n",
        "Setting *use_idf=True* for TfidfTransformer clearly seems to increase the mean validation set accuracy. This confirms that downscaling weights for words that occur in many documents improves the probability of obtaining the best accuracy. Additionally, it is a good idea to evaluate a larger size of word n-grams for the model. *ngram_range=(1, 2)* will be used for CountVectorizer. \n",
        "\n",
        "Now, GridSearchCV is used to evaluate the hyper-parameters that could potentially optimize the validation accuracy of AdaBoostClassifier with the optimized attributes for SVM. Only the relevant parameters of the model are evaluated by combining different values for *n_estimators* and *learning_rate*."
      ]
    },
    {
      "cell_type": "code",
      "metadata": {
        "id": "_BZ1WCtjjxuY",
        "outputId": "f6911b85-61cb-4ad3-892a-a7c9a82f1bc2",
        "colab": {
          "base_uri": "https://localhost:8080/",
          "height": 772
        }
      },
      "source": [
        "# Set relevant parameters\n",
        "parameters = {\n",
        "    'n_estimators': (100, 200, 400),\n",
        "    'learning_rate': (0.01, 0.1, 1)\n",
        "}\n",
        "\n",
        "# Create a pipeline\n",
        "pip = Pipeline([('vect', CountVectorizer(ngram_range=(1, 2))),\n",
        "                ('tfidf', TfidfTransformer(use_idf=True)),\n",
        "                ('Norm', Normalizer(copy=False)),\n",
        "                ('clf', GridSearchCV(AdaBoostClassifier(base_estimator=LinearSVC(\n",
        "                    penalty='l2', dual=True, tol=0.1, C=100), algorithm='SAMME'),\n",
        "                                     parameters, cv=3, n_jobs=-1))])\n",
        "\n",
        "# Execute pipeline\n",
        "pip.fit(IMDB_train.data, IMDB_train.target)\n",
        "\n",
        "# Collect and print results\n",
        "test_accuracies = pip['clf'].cv_results_['mean_test_score']\n",
        "test_time = pip['clf'].cv_results_['mean_fit_time']\n",
        "test_params = pip['clf'].cv_results_['params']\n",
        "\n",
        "for i in range(len(test_time)):\n",
        "  print(\"Parameter: {0}\".format(test_params[i]))\n",
        "  print(\"Training Time: %.3f seconds\" %test_time[i])\n",
        "  print(\"Valdation Accuracy: {0:.3f}\".format(test_accuracies[i]))\n",
        "  print(\"\")\n",
        "\n",
        "print(\"Validation Accuracy: \" + str(pip['clf'].best_score_))\n",
        "print(\"Optimal Parameters: \" + str(pip['clf'].best_params_))"
      ],
      "execution_count": null,
      "outputs": [
        {
          "output_type": "stream",
          "text": [
            "/usr/local/lib/python3.6/dist-packages/joblib/externals/loky/process_executor.py:706: UserWarning: A worker stopped while some jobs were given to the executor. This can be caused by a too short worker timeout or by a memory leak.\n",
            "  \"timeout or by a memory leak.\", UserWarning\n"
          ],
          "name": "stderr"
        },
        {
          "output_type": "stream",
          "text": [
            "Parameter: {'learning_rate': 0.01, 'n_estimators': 100}\n",
            "Training Time: 41.971 seconds\n",
            "Valdation Accuracy: 0.872\n",
            "\n",
            "Parameter: {'learning_rate': 0.01, 'n_estimators': 200}\n",
            "Training Time: 41.047 seconds\n",
            "Valdation Accuracy: 0.874\n",
            "\n",
            "Parameter: {'learning_rate': 0.01, 'n_estimators': 400}\n",
            "Training Time: 40.821 seconds\n",
            "Valdation Accuracy: 0.874\n",
            "\n",
            "Parameter: {'learning_rate': 0.1, 'n_estimators': 100}\n",
            "Training Time: 5.547 seconds\n",
            "Valdation Accuracy: 0.877\n",
            "\n",
            "Parameter: {'learning_rate': 0.1, 'n_estimators': 200}\n",
            "Training Time: 5.344 seconds\n",
            "Valdation Accuracy: 0.876\n",
            "\n",
            "Parameter: {'learning_rate': 0.1, 'n_estimators': 400}\n",
            "Training Time: 6.186 seconds\n",
            "Valdation Accuracy: 0.877\n",
            "\n",
            "Parameter: {'learning_rate': 1, 'n_estimators': 100}\n",
            "Training Time: 43.354 seconds\n",
            "Valdation Accuracy: 0.880\n",
            "\n",
            "Parameter: {'learning_rate': 1, 'n_estimators': 200}\n",
            "Training Time: 88.087 seconds\n",
            "Valdation Accuracy: 0.886\n",
            "\n",
            "Parameter: {'learning_rate': 1, 'n_estimators': 400}\n",
            "Training Time: 159.606 seconds\n",
            "Valdation Accuracy: 0.888\n",
            "\n",
            "Validation Accuracy: 0.8875998764452616\n",
            "Optimal Parameters: {'learning_rate': 1, 'n_estimators': 400}\n"
          ],
          "name": "stdout"
        }
      ]
    },
    {
      "cell_type": "markdown",
      "metadata": {
        "id": "ydAP74Dh9nmN"
      },
      "source": [
        "The previous results show that a learning rate of 1 is a good value for optimizing the accuracy. However, more information is needed regarding the number of estimator. It seems that increasing it more than 400 could probably improve the accuracy.\n",
        "\n",
        "The next section analyzes how the number of estimator has an impact on the validation set accuracy of this model."
      ]
    },
    {
      "cell_type": "code",
      "metadata": {
        "id": "6SrF92p2bDZ6",
        "outputId": "7905907a-aa75-4961-9b8f-598682225d79",
        "colab": {
          "base_uri": "https://localhost:8080/",
          "height": 369
        }
      },
      "source": [
        "# Create list of number of estimators\n",
        "nbr_estimator = np.linspace(200, 1000 , 4)\n",
        "accuracies = []\n",
        "runtimes = []\n",
        "\n",
        "# Evaluate validation set accuracy for each C\n",
        "for nbr in nbr_estimator:\n",
        "\n",
        "  # Create a pipeline\n",
        "  pip = Pipeline([('vect', CountVectorizer(ngram_range=(1, 2))),\n",
        "                ('tfidf', TfidfTransformer(use_idf=True)),\n",
        "                ('Norm', Normalizer(copy=False)),\n",
        "                ('clf', AdaBoostClassifier(base_estimator=LinearSVC(\n",
        "                    penalty='l2', dual=True, tol=0.1, C=100), algorithm='SAMME', learning_rate=1, n_estimators=int(nbr)))])\n",
        "\n",
        "  # Evaluate validation set accuracy\n",
        "  start = time.perf_counter()\n",
        "  scores = cross_val_score(pip, IMDB_train.data, IMDB_train.target, cv=3)\n",
        "  elapsed_time = time.perf_counter()-start\n",
        "  accuracies.append(np.mean(scores))\n",
        "  runtimes.append(elapsed_time)\n",
        "\n",
        "#Display Results\n",
        "fig = plt.figure(figsize=(12,5))\n",
        "ax1 = fig.add_subplot(121)\n",
        "ax2 = fig.add_subplot(122)\n",
        "ax1.plot(nbr_estimator, accuracies, 'o-')\n",
        "ax1.set_ylabel('Accuracy')\n",
        "ax1.set_xlabel('Number of Estimator')\n",
        "ax2.plot(nbr_estimator, runtimes, 'o-')\n",
        "ax2.set_ylabel('Training Time')\n",
        "ax2.set_xlabel('Number of Estimator')\n",
        "plt.tight_layout()\n",
        "plt.show()"
      ],
      "execution_count": null,
      "outputs": [
        {
          "output_type": "display_data",
          "data": {
            "image/png": "[encoded data removed]",
            "text/plain": [
              "<Figure size 864x360 with 2 Axes>"
            ]
          },
          "metadata": {
            "tags": []
          }
        }
      ]
    },
    {
      "cell_type": "code",
      "metadata": {
        "id": "AaZdnXEKRHIj",
        "outputId": "e6d6437c-5d95-4264-d370-c92e9e76f532",
        "colab": {
          "base_uri": "https://localhost:8080/",
          "height": 35
        }
      },
      "source": [
        "print(nbr_estimator)"
      ],
      "execution_count": null,
      "outputs": [
        {
          "output_type": "stream",
          "text": [
            "[ 200.          466.66666667  733.33333333 1000.        ]\n"
          ],
          "name": "stdout"
        }
      ]
    },
    {
      "cell_type": "markdown",
      "metadata": {
        "id": "wM1JolFJg7Nn"
      },
      "source": [
        "Based the previous graphs, the accuracy seems to peak around 466 estimators. Another test should be made around this value to get an optimal accuracy."
      ]
    },
    {
      "cell_type": "code",
      "metadata": {
        "id": "6d3GLEd-SEjf",
        "outputId": "07d64494-8ae5-41a3-fa42-7f2a47ba5561",
        "colab": {
          "base_uri": "https://localhost:8080/",
          "height": 369
        }
      },
      "source": [
        "# Create list of number of estimators\n",
        "nbr_estimator = [455, 460, 465, 470]\n",
        "accuracies = []\n",
        "runtimes = []\n",
        "\n",
        "# Evaluate validation set accuracy for each C\n",
        "for nbr in nbr_estimator:\n",
        "\n",
        "  # Create a pipeline\n",
        "  pip = Pipeline([('vect', CountVectorizer(ngram_range=(1, 2))),\n",
        "                ('tfidf', TfidfTransformer(use_idf=True)),\n",
        "                ('Norm', Normalizer(copy=False)),\n",
        "                ('clf', AdaBoostClassifier(base_estimator=LinearSVC(\n",
        "                    penalty='l2', dual=True, tol=0.1, C=100), algorithm='SAMME', learning_rate=1, n_estimators=int(nbr)))])\n",
        "\n",
        "  # Evaluate validation set accuracy\n",
        "  start = time.perf_counter()\n",
        "  scores = cross_val_score(pip, IMDB_train.data, IMDB_train.target, cv=3)\n",
        "  elapsed_time = time.perf_counter()-start\n",
        "  accuracies.append(np.mean(scores))\n",
        "  runtimes.append(elapsed_time)\n",
        "\n",
        "#Display Results\n",
        "fig = plt.figure(figsize=(12,5))\n",
        "ax1 = fig.add_subplot(121)\n",
        "ax2 = fig.add_subplot(122)\n",
        "ax1.plot(nbr_estimator, accuracies, 'o-')\n",
        "ax1.set_ylabel('Accuracy')\n",
        "ax1.set_xlabel('Number of Estimator')\n",
        "ax2.plot(nbr_estimator, runtimes, 'o-')\n",
        "ax2.set_ylabel('Training Time')\n",
        "ax2.set_xlabel('Number of Estimator')\n",
        "plt.tight_layout()\n",
        "plt.show()"
      ],
      "execution_count": null,
      "outputs": [
        {
          "output_type": "display_data",
          "data": {
            "image/png": "[encoded data removed]",
            "text/plain": [
              "<Figure size 864x360 with 2 Axes>"
            ]
          },
          "metadata": {
            "tags": []
          }
        }
      ]
    },
    {
      "cell_type": "markdown",
      "metadata": {
        "id": "e3IgFz6zdXf6"
      },
      "source": [
        "Looking at the previous results, it seems that *n_estimator=455* is a good value for this parameter."
      ]
    },
    {
      "cell_type": "markdown",
      "metadata": {
        "id": "Yuzq0QJiSVdI"
      },
      "source": [
        "# Final Result"
      ]
    },
    {
      "cell_type": "code",
      "metadata": {
        "id": "djIBDissSYZD",
        "outputId": "5f04cbd7-ef88-41ba-8339-6e988c190b98",
        "colab": {
          "base_uri": "https://localhost:8080/",
          "height": 109
        }
      },
      "source": [
        "# Create a pipeline\n",
        "pip = Pipeline([('vect', CountVectorizer(ngram_range=(1, 2))),\n",
        "                ('tfidf', TfidfTransformer(use_idf=True)),\n",
        "                ('Norm', Normalizer(copy=False)),\n",
        "                ('clf', AdaBoostClassifier(base_estimator=LinearSVC(\n",
        "                    penalty='l2', dual=True, tol=0.1, C=100), algorithm='SAMME', learning_rate=1, n_estimators=455))])\n",
        "\n",
        "# Evaluate validation set accuracy\n",
        "start_time = time.time()\n",
        "scores = cross_val_score(pip, IMDB_train.data, IMDB_train.target, cv=10)\n",
        "valid_accuracy = np.mean(scores)\n",
        "print(\"10-Cross Validation Runtime: %s seconds\" % (time.time() - start_time))\n",
        "print(\"Validation Set Accuracy: {0}\".format(valid_accuracy))\n",
        "\n",
        "# Fit the model\n",
        "start_time = time.time()\n",
        "pip.fit(IMDB_train.data, IMDB_train.target)\n",
        "print(\"Training Runtime: %s seconds\" % (time.time() - start_time))\n",
        "\n",
        "# Get prediction on test set\n",
        "start_time = time.time()\n",
        "IMDB_pred = pip.predict(IMDB_test.data)\n",
        "print(\"Prediction Runtime: %s seconds\" % (time.time() - start_time))\n",
        "\n",
        "# Compute test set accuracy\n",
        "test_accuracy = np.mean(IMDB_pred==IMDB_test.target)\n",
        "print(\"Test Set Accuracy: {0}\".format(test_accuracy))"
      ],
      "execution_count": null,
      "outputs": [
        {
          "output_type": "stream",
          "text": [
            "10-Cross Validation Runtime: 2664.3755552768707 seconds\n",
            "Validation Set Accuracy: 0.90008\n",
            "Training Runtime: 288.596951007843 seconds\n",
            "Prediction Runtime: 36.48050904273987 seconds\n",
            "Test Set Accuracy: 0.89584\n"
          ],
          "name": "stdout"
        }
      ]
    }
  ]
}