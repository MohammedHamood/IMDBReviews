{
  "nbformat": 4,
  "nbformat_minor": 0,
  "metadata": {
    "colab": {
      "provenance": [],
      "include_colab_link": true
    },
    "kernelspec": {
      "name": "python3",
      "display_name": "Python 3"
    }
  },
  "cells": [
    {
      "cell_type": "markdown",
      "metadata": {
        "id": "view-in-github",
        "colab_type": "text"
      },
      "source": [
        "<a href=\"https://colab.research.google.com/github/MohammedHamood/IMDBReviews/blob/main/IMDBReviews_SVM.ipynb\" target=\"_parent\"><img src=\"https://colab.research.google.com/assets/colab-badge.svg\" alt=\"Open In Colab\"/></a>"
      ]
    },
    {
      "cell_type": "markdown",
      "metadata": {
        "id": "Q92DEmBM1b8_"
      },
      "source": [
        "# IMDB Reviews - Support Vector Machines"
      ]
    },
    {
      "cell_type": "markdown",
      "metadata": {
        "id": "FiMg7PRyGZ_F"
      },
      "source": [
        "## Data Pre-Processing"
      ]
    },
    {
      "cell_type": "code",
      "metadata": {
        "id": "kZaX3DOsGgF6",
        "outputId": "3e211a02-3b2f-477c-da3c-4800feb800e1",
        "colab": {
          "base_uri": "https://localhost:8080/",
          "height": 239
        }
      },
      "source": [
        "import pandas as pd\n",
        "import nltk\n",
        "nltk.download('stopwords')\n",
        "nltk.download('punkt')\n",
        "nltk.download('wordnet')\n",
        "import preprocessingNLP as PNLP\n",
        "import numpy as np\n",
        "import time\n",
        "import matplotlib.pyplot as plt\n",
        "from sklearn.datasets import fetch_20newsgroups\n",
        "from sklearn.naive_bayes import MultinomialNB\n",
        "from sklearn.linear_model import LogisticRegression\n",
        "from sklearn.svm import LinearSVC\n",
        "from sklearn.ensemble import AdaBoostClassifier\n",
        "from sklearn.ensemble import RandomForestClassifier\n",
        "from sklearn.naive_bayes import MultinomialNB\n",
        "from sklearn.discriminant_analysis import LinearDiscriminantAnalysis\n",
        "from sklearn.tree import DecisionTreeClassifier\n",
        "from sklearn.decomposition import PCA, NMF, TruncatedSVD\n",
        "from sklearn.feature_selection import SelectKBest, chi2\n",
        "from sklearn.datasets import load_files\n",
        "from sklearn.feature_extraction.text import CountVectorizer,TfidfTransformer\n",
        "from sklearn.pipeline import Pipeline\n",
        "from sklearn.model_selection import GridSearchCV, RandomizedSearchCV, cross_val_score\n",
        "from sklearn.preprocessing import Normalizer\n",
        "\n",
        "# Import Dataset\n",
        "print(\"Downloading Dataset ...\")\n",
        "!wget -nv \"http://ai.stanford.edu/~amaas/data/sentiment/aclImdb_v1.tar.gz\"\n",
        "!tar -xf aclImdb_v1.tar.gz\n",
        "IMDB_train = load_files('aclImdb/train/', categories=(\"pos\", \"neg\"), encoding='utf-8')\n",
        "IMDB_test = load_files('aclImdb/test/', categories=('pos', 'neg'), encoding='utf-8')\n",
        "print(\"Dataset Downloaded\")\n",
        "\n",
        "# Preprocessing\n",
        "print(\"PREPROCESSING ...\")\n",
        "IMDB_train.data = PNLP.customNLP(IMDB_train.data)\n",
        "IMDB_test.data = PNLP.customNLP(IMDB_test.data)\n",
        "IMDB_train.data, IMDB_train.target = PNLP.removeEmptyInstances(IMDB_train.data, IMDB_train.target)\n",
        "print(\"PREPROCESSING DONE!\")"
      ],
      "execution_count": null,
      "outputs": [
        {
          "output_type": "stream",
          "text": [
            "[nltk_data] Downloading package stopwords to /root/nltk_data...\n",
            "[nltk_data]   Unzipping corpora/stopwords.zip.\n",
            "[nltk_data] Downloading package punkt to /root/nltk_data...\n",
            "[nltk_data]   Unzipping tokenizers/punkt.zip.\n",
            "[nltk_data] Downloading package wordnet to /root/nltk_data...\n",
            "[nltk_data]   Unzipping corpora/wordnet.zip.\n",
            "Downloading Dataset ...\n",
            "2020-03-10 17:10:41 URL:http://ai.stanford.edu/~amaas/data/sentiment/aclImdb_v1.tar.gz [84125825/84125825] -> \"aclImdb_v1.tar.gz\" [1]\n",
            "Dataset Downloaded\n",
            "PREPROCESSING ...\n",
            "PREPROCESSING DONE!\n"
          ],
          "name": "stdout"
        }
      ]
    },
    {
      "cell_type": "markdown",
      "metadata": {
        "id": "qhinXDrn5JFP"
      },
      "source": [
        "## Setting Hyper-Parameters"
      ]
    },
    {
      "cell_type": "markdown",
      "metadata": {
        "id": "pvHFQ4YlHAHx"
      },
      "source": [
        "In the following section, RandomSearchCV will be used to evaluate the validation accuracy of Support Vector Machines based on random combinations of hyper-parameters used in the validation pipeline. The relevant parameters needed are ngram_range for CountVectorizer and use_idf for TfidfTransformer. LinearSVC is used with its default attributes."
      ]
    },
    {
      "cell_type": "code",
      "metadata": {
        "id": "v2VQeiEIG--6",
        "outputId": "a30d3cdf-c918-4274-f3d8-a565e84a2731",
        "colab": {
          "base_uri": "https://localhost:8080/",
          "height": 568
        }
      },
      "source": [
        "# Set possible parameters\n",
        "parameters = {\n",
        "    'vect__ngram_range': ((1, 1), (1, 2),(1, 3)), \n",
        "    'tfidf__use_idf': (True, False),\n",
        "}\n",
        "\n",
        "# Create a pipeline\n",
        "pip = Pipeline([('vect', CountVectorizer()),('tfidf', TfidfTransformer()),\n",
        "                ('Norm', Normalizer(copy=False)),('clf', LinearSVC())])\n",
        "\n",
        "# Initialize RandomizedSearchCV\n",
        "n_iter_search = 6\n",
        "cv_folds = 3\n",
        "SVM_rand_search = RandomizedSearchCV(pip, param_distributions=parameters, \n",
        "                               n_iter=n_iter_search, cv=cv_folds)\n",
        "\n",
        "# Utility function to report best scores\n",
        "def report(results, n_top=10):\n",
        "    for i in range(1, n_top + 1):\n",
        "        candidates = np.flatnonzero(results['rank_test_score'] == i)\n",
        "        for candidate in candidates:\n",
        "            print(\"Model with rank: {0}\".format(i))\n",
        "            print(\"Mean validation score: {0:.3f} (std: {1:.3f})\"\n",
        "                  .format(results['mean_test_score'][candidate],\n",
        "                          results['std_test_score'][candidate]))\n",
        "            print(\"Parameters: {0}\".format(results['params'][candidate]))\n",
        "            print(\"Mean Fit Time: %.3f seconds\" %results['mean_fit_time'][candidate])\n",
        "            print(\"\")\n",
        "\n",
        "# Execute RandomizedSearchCV and print best results\n",
        "SVM_rand_search.fit(IMDB_train.data, IMDB_train.target)\n",
        "report(SVM_rand_search.cv_results_)"
      ],
      "execution_count": null,
      "outputs": [
        {
          "output_type": "stream",
          "text": [
            "Model with rank: 1\n",
            "Mean validation score: 0.891 (std: 0.002)\n",
            "Parameters: {'vect__ngram_range': (1, 2), 'tfidf__use_idf': True}\n",
            "Mean Fit Time: 12.008 seconds\n",
            "\n",
            "Model with rank: 2\n",
            "Mean validation score: 0.887 (std: 0.002)\n",
            "Parameters: {'vect__ngram_range': (1, 3), 'tfidf__use_idf': True}\n",
            "Mean Fit Time: 26.106 seconds\n",
            "\n",
            "Model with rank: 3\n",
            "Mean validation score: 0.883 (std: 0.003)\n",
            "Parameters: {'vect__ngram_range': (1, 2), 'tfidf__use_idf': False}\n",
            "Mean Fit Time: 10.167 seconds\n",
            "\n",
            "Model with rank: 4\n",
            "Mean validation score: 0.881 (std: 0.002)\n",
            "Parameters: {'vect__ngram_range': (1, 3), 'tfidf__use_idf': False}\n",
            "Mean Fit Time: 22.947 seconds\n",
            "\n",
            "Model with rank: 5\n",
            "Mean validation score: 0.880 (std: 0.004)\n",
            "Parameters: {'vect__ngram_range': (1, 1), 'tfidf__use_idf': True}\n",
            "Mean Fit Time: 2.153 seconds\n",
            "\n",
            "Model with rank: 6\n",
            "Mean validation score: 0.877 (std: 0.002)\n",
            "Parameters: {'vect__ngram_range': (1, 1), 'tfidf__use_idf': False}\n",
            "Mean Fit Time: 1.992 seconds\n",
            "\n"
          ],
          "name": "stdout"
        }
      ]
    },
    {
      "cell_type": "markdown",
      "metadata": {
        "id": "B6SQJ1FMt9ta"
      },
      "source": [
        "These results show a brief idea of the required parameters for CountVectorizer and TfidfTransformer.\n",
        "RandomSearchCV constantly gives different rankings as it always chooses its parameters randomly. However, setting *use_idf=TRUE* for TfidfTransformer clearly seems to increase the mean validation set accuracy. This confirms that downscaling weights for words that occur in many documents improves the probability of obtaining the best accuracy. Additionally, it is a good idea to evaluate unigrams and bigrams for this model. *ngram_range=(1, 2)* will be used for CountVectorizer.\n",
        "\n",
        "To avoid overfiting, a regularization method may be needed. In this section, the appropriate regularization method is evaluated. L1 and L2 regularizations are applied on multiple sizes of features and their corresponding validation accuracy are compared."
      ]
    },
    {
      "cell_type": "code",
      "metadata": {
        "id": "qP5njsLregXh"
      },
      "source": [
        "# Create list of sample sizes\n",
        "total_sample_size = len(IMDB_train.data)\n",
        "sample_sizes = [total_sample_size/4 * i for i in range(1, 4)]\n",
        "\n",
        "# Create pipelines\n",
        "pip_l1 = Pipeline([('vect', CountVectorizer(ngram_range=(1, 2))),\n",
        "                   ('tfidf', TfidfTransformer(use_idf=True)),\n",
        "                   ('Norm', Normalizer(copy=False)),\n",
        "                   ('clf', LinearSVC(penalty='l1', dual=False))])\n",
        "  \n",
        "pip_l2 = Pipeline([('vect', CountVectorizer(ngram_range=(1, 2))),\n",
        "                   ('tfidf', TfidfTransformer(use_idf=True)),\n",
        "                   ('Norm', Normalizer(copy=False)),\n",
        "                   ('clf', LinearSVC(penalty='l2', dual=False))])\n",
        "\n",
        "cv_folds=3\n",
        "accuracies_l1 = []\n",
        "accuracies_l2 = []\n",
        "for size in sample_sizes:\n",
        "\n",
        "  # Evaluate validation accuracy\n",
        "  scores_l1 = cross_val_score(pip_l1, IMDB_train.data[:int(size)], IMDB_train.target[:int(size)], cv=cv_folds)\n",
        "  scores_l2 = cross_val_score(pip_l2, IMDB_train.data[:int(size)], IMDB_train.target[:int(size)], cv=cv_folds)\n",
        "  accuracies_l1.append(np.mean(scores_l1))\n",
        "  accuracies_l2.append(np.mean(scores_l2))"
      ],
      "execution_count": null,
      "outputs": []
    },
    {
      "cell_type": "code",
      "metadata": {
        "id": "Kl4PP96Rl6y2",
        "outputId": "7f3d5236-1b98-4b02-c7e7-9b6b6622da1e",
        "colab": {
          "base_uri": "https://localhost:8080/",
          "height": 334
        }
      },
      "source": [
        "#Display Results\n",
        "fig = plt.figure(figsize=(10,5))\n",
        "ax1 = fig.add_subplot(111)\n",
        "ax1.plot(sample_sizes, accuracies_l1, 'ro-', label='L1 Penalty')\n",
        "ax1.plot(sample_sizes, accuracies_l2, 'bo-', label='L2 Penalty')\n",
        "ax1.legend(loc='best', shadow=True, fontsize='x-large')\n",
        "ax1.set_ylabel('Mean Validation Set Accuracy')\n",
        "ax1.set_xlabel('Sample Size')\n",
        "plt.show()"
      ],
      "execution_count": null,
      "outputs": [
        {
          "output_type": "display_data",
          "data": {
            "image/png": "[encoded data removed]",
            "text/plain": [
              "<Figure size 720x360 with 1 Axes>"
            ]
          },
          "metadata": {
            "tags": []
          }
        }
      ]
    },
    {
      "cell_type": "markdown",
      "metadata": {
        "id": "Xwzs24tnf06T"
      },
      "source": [
        "The previous graph displays the mean validation accuracy of Logistic Regression with L1 and L2 Regularization. L2 penalty seems to show better performance than L1. L2 penalty will be used as the optimal regularization method."
      ]
    },
    {
      "cell_type": "markdown",
      "metadata": {
        "id": "Ykm7_FAk0_vO"
      },
      "source": [
        "In the following section, GridSearchCV is used to properly detect the most optimal parameters needed to optimize the validation set accuracy of the Support Vector Machines Model: LinearSVC. Only the relevant parameters of the model are evaluated by combining different values for *C*, *tol* and *dual*."
      ]
    },
    {
      "cell_type": "code",
      "metadata": {
        "id": "hngNG3IQDwcp",
        "outputId": "4df8723a-88c6-473b-81e2-7f2f906783b1",
        "colab": {
          "base_uri": "https://localhost:8080/",
          "height": 1000
        }
      },
      "source": [
        "# Set relevant parameters\n",
        "parameters = {\n",
        "    'C': (0.1, 1, 10, 100),\n",
        "    'tol': (0.1, 0.001, 0.00001),\n",
        "    'dual': (True, False)\n",
        "}\n",
        "\n",
        "# Create a pipeline\n",
        "pip = Pipeline([('vect', CountVectorizer(ngram_range=(1, 2))),\n",
        "                ('tfidf', TfidfTransformer(use_idf=True)),\n",
        "                ('Norm', Normalizer(copy=False)),\n",
        "                ('clf', GridSearchCV(LinearSVC(penalty='l2'),\n",
        "                                     parameters, cv=cv_folds, n_jobs=-1))])\n",
        "\n",
        "# Execute pipeline\n",
        "pip.fit(IMDB_train.data, IMDB_train.target)\n",
        "\n",
        "# Collect and print results\n",
        "test_accuracies = pip['clf'].cv_results_['mean_test_score']\n",
        "test_time = pip['clf'].cv_results_['mean_fit_time']\n",
        "test_params = pip['clf'].cv_results_['params']\n",
        "\n",
        "for i in range(len(test_time)):\n",
        "  print(\"Parameter: {0}\".format(test_params[i]))\n",
        "  print(\"Training Time: %.3f seconds\" %test_time[i])\n",
        "  print(\"Valdation Accuracy: {0:.3f}\".format(test_accuracies[i]))\n",
        "  print(\"\")\n",
        "\n",
        "print(\"Best Validation Set Accuracy: \" + str(pip['clf'].best_score_))\n",
        "print(\"Optimal Parameters: \" + str(pip['clf'].best_params_))"
      ],
      "execution_count": null,
      "outputs": [
        {
          "output_type": "stream",
          "text": [
            "/usr/local/lib/python3.6/dist-packages/joblib/externals/loky/process_executor.py:706: UserWarning: A worker stopped while some jobs were given to the executor. This can be caused by a too short worker timeout or by a memory leak.\n",
            "  \"timeout or by a memory leak.\", UserWarning\n"
          ],
          "name": "stderr"
        },
        {
          "output_type": "stream",
          "text": [
            "Parameter: {'C': 0.1, 'dual': True, 'tol': 0.1}\n",
            "Training Time: 0.701 seconds\n",
            "Valdation Accuracy: 0.876\n",
            "\n",
            "Parameter: {'C': 0.1, 'dual': True, 'tol': 0.001}\n",
            "Training Time: 1.058 seconds\n",
            "Valdation Accuracy: 0.876\n",
            "\n",
            "Parameter: {'C': 0.1, 'dual': True, 'tol': 1e-05}\n",
            "Training Time: 1.306 seconds\n",
            "Valdation Accuracy: 0.876\n",
            "\n",
            "Parameter: {'C': 0.1, 'dual': False, 'tol': 0.1}\n",
            "Training Time: 2.046 seconds\n",
            "Valdation Accuracy: 0.876\n",
            "\n",
            "Parameter: {'C': 0.1, 'dual': False, 'tol': 0.001}\n",
            "Training Time: 3.792 seconds\n",
            "Valdation Accuracy: 0.876\n",
            "\n",
            "Parameter: {'C': 0.1, 'dual': False, 'tol': 1e-05}\n",
            "Training Time: 5.110 seconds\n",
            "Valdation Accuracy: 0.876\n",
            "\n",
            "Parameter: {'C': 1, 'dual': True, 'tol': 0.1}\n",
            "Training Time: 1.055 seconds\n",
            "Valdation Accuracy: 0.891\n",
            "\n",
            "Parameter: {'C': 1, 'dual': True, 'tol': 0.001}\n",
            "Training Time: 2.204 seconds\n",
            "Valdation Accuracy: 0.891\n",
            "\n",
            "Parameter: {'C': 1, 'dual': True, 'tol': 1e-05}\n",
            "Training Time: 3.492 seconds\n",
            "Valdation Accuracy: 0.891\n",
            "\n",
            "Parameter: {'C': 1, 'dual': False, 'tol': 0.1}\n",
            "Training Time: 3.403 seconds\n",
            "Valdation Accuracy: 0.891\n",
            "\n",
            "Parameter: {'C': 1, 'dual': False, 'tol': 0.001}\n",
            "Training Time: 7.351 seconds\n",
            "Valdation Accuracy: 0.891\n",
            "\n",
            "Parameter: {'C': 1, 'dual': False, 'tol': 1e-05}\n",
            "Training Time: 10.829 seconds\n",
            "Valdation Accuracy: 0.891\n",
            "\n",
            "Parameter: {'C': 10, 'dual': True, 'tol': 0.1}\n",
            "Training Time: 1.396 seconds\n",
            "Valdation Accuracy: 0.893\n",
            "\n",
            "Parameter: {'C': 10, 'dual': True, 'tol': 0.001}\n",
            "Training Time: 9.419 seconds\n",
            "Valdation Accuracy: 0.893\n",
            "\n",
            "Parameter: {'C': 10, 'dual': True, 'tol': 1e-05}\n",
            "Training Time: 20.498 seconds\n",
            "Valdation Accuracy: 0.893\n",
            "\n",
            "Parameter: {'C': 10, 'dual': False, 'tol': 0.1}\n",
            "Training Time: 5.330 seconds\n",
            "Valdation Accuracy: 0.893\n",
            "\n",
            "Parameter: {'C': 10, 'dual': False, 'tol': 0.001}\n",
            "Training Time: 31.035 seconds\n",
            "Valdation Accuracy: 0.893\n",
            "\n",
            "Parameter: {'C': 10, 'dual': False, 'tol': 1e-05}\n",
            "Training Time: 46.919 seconds\n",
            "Valdation Accuracy: 0.893\n",
            "\n",
            "Parameter: {'C': 100, 'dual': True, 'tol': 0.1}\n",
            "Training Time: 1.910 seconds\n",
            "Valdation Accuracy: 0.894\n",
            "\n",
            "Parameter: {'C': 100, 'dual': True, 'tol': 0.001}\n",
            "Training Time: 38.456 seconds\n",
            "Valdation Accuracy: 0.894\n",
            "\n",
            "Parameter: {'C': 100, 'dual': True, 'tol': 1e-05}\n",
            "Training Time: 64.309 seconds\n",
            "Valdation Accuracy: 0.894\n",
            "\n",
            "Parameter: {'C': 100, 'dual': False, 'tol': 0.1}\n",
            "Training Time: 2.734 seconds\n",
            "Valdation Accuracy: 0.893\n",
            "\n",
            "Parameter: {'C': 100, 'dual': False, 'tol': 0.001}\n",
            "Training Time: 39.923 seconds\n",
            "Valdation Accuracy: 0.893\n",
            "\n",
            "Parameter: {'C': 100, 'dual': False, 'tol': 1e-05}\n",
            "Training Time: 367.151 seconds\n",
            "Valdation Accuracy: 0.894\n",
            "\n",
            "Best Validation Set Accuracy: 0.8936398732647169\n",
            "Optimal Parameters: {'C': 100, 'dual': True, 'tol': 0.1}\n"
          ],
          "name": "stdout"
        }
      ]
    },
    {
      "cell_type": "markdown",
      "metadata": {
        "id": "1WLCBTXZ1pmN"
      },
      "source": [
        "From these results, it seems that *C=100* is an optimal inverse regularization strength value as it gives the best accuracy when applying Ridge Regression. Furthermore, varying *tol* seems to make a big impact on the training time for the same validation set accuracy. *dual=True* with *tol=0.1* seems to be good values to find the best accuracy.\n",
        "\n",
        "Increasing *C* could still improve the validation set accuracy. The next section analyses how *C* makes an impact on the accuracy."
      ]
    },
    {
      "cell_type": "code",
      "metadata": {
        "id": "f9RZAscm5E2Z",
        "outputId": "06a1fc5b-a7da-4b3e-d0ae-71e3aed43dec",
        "colab": {
          "base_uri": "https://localhost:8080/",
          "height": 369
        }
      },
      "source": [
        "# Create list of inverse regularization strengths (from 1 to 1000)\n",
        "inv_reg_strengths = np.logspace(0, 3, 4)\n",
        "accuracies = []\n",
        "runtimes = []\n",
        "\n",
        "# Evaluate validation set accuracy for each C\n",
        "for c in inv_reg_strengths:\n",
        "\n",
        "  # Create a pipeline\n",
        "  pip = Pipeline([('vect', CountVectorizer(ngram_range=(1, 2))),\n",
        "                ('tfidf', TfidfTransformer(use_idf=True)),\n",
        "                ('Norm', Normalizer(copy=False)),\n",
        "                ('clf', LinearSVC(penalty='l2', dual=True, tol=0.1, C=c))])\n",
        "\n",
        "  # Evaluate validation set accuracy\n",
        "  start = time.perf_counter()\n",
        "  scores = cross_val_score(pip, IMDB_train.data, IMDB_train.target, cv=3)\n",
        "  elapsed_time = time.perf_counter()-start\n",
        "  accuracies.append(np.mean(scores))\n",
        "  runtimes.append(elapsed_time)\n",
        "\n",
        "#Display Results\n",
        "fig = plt.figure(figsize=(12,5))\n",
        "ax1 = fig.add_subplot(121)\n",
        "ax2 = fig.add_subplot(122)\n",
        "ax1.plot(inv_reg_strengths, accuracies, 'o-')\n",
        "ax1.set_ylabel('Accuracy')\n",
        "ax1.set_xlabel('Inverse Regularization Strength')\n",
        "ax2.plot(inv_reg_strengths, runtimes, 'o-')\n",
        "ax2.set_ylabel('Training Time')\n",
        "ax2.set_xlabel('Inverse Regularization Strength')\n",
        "plt.tight_layout()\n",
        "plt.show()"
      ],
      "execution_count": null,
      "outputs": [
        {
          "output_type": "display_data",
          "data": {
            "image/png": "[encoded data removed]",
            "text/plain": [
              "<Figure size 864x360 with 2 Axes>"
            ]
          },
          "metadata": {
            "tags": []
          }
        }
      ]
    },
    {
      "cell_type": "markdown",
      "metadata": {
        "id": "ZUw-X-V-8OM3"
      },
      "source": [
        "The previous graphs shows that the validation set accuracy seems to peak when *C=100*. This value will be used to evaluate the test set accuracy."
      ]
    },
    {
      "cell_type": "markdown",
      "metadata": {
        "id": "Le6gJ5Q6b-50"
      },
      "source": [
        "## Final Result"
      ]
    },
    {
      "cell_type": "code",
      "metadata": {
        "id": "jdhuJ06ecEV7",
        "outputId": "018fd76c-77ed-474e-df0f-b3c49775d7c8",
        "colab": {
          "base_uri": "https://localhost:8080/",
          "height": 109
        }
      },
      "source": [
        "# Create a pipeline\n",
        "pip = Pipeline([('vect', CountVectorizer(ngram_range=(1, 2))),\n",
        "                ('tfidf', TfidfTransformer(use_idf=True)),\n",
        "                ('Norm', Normalizer(copy=False)),\n",
        "                ('clf', LinearSVC(penalty='l2', dual=True, tol=0.1, C=40))])\n",
        "\n",
        "# Evaluate validation set accuracy\n",
        "start_time = time.time()\n",
        "scores = cross_val_score(pip, IMDB_train.data, IMDB_train.target, cv=10)\n",
        "valid_accuracy = np.mean(scores)\n",
        "print(\"10-Cross Validation Runtime: %s seconds\" % (time.time() - start_time))\n",
        "print(\"Validation Set Accuracy: {0}\".format(valid_accuracy))\n",
        "\n",
        "# Fit the model\n",
        "start_time = time.time()\n",
        "pip.fit(IMDB_train.data, IMDB_train.target)\n",
        "print(\"Training Runtime: %s seconds\" % (time.time() - start_time))\n",
        "\n",
        "# Get prediction on test set\n",
        "start_time = time.time()\n",
        "IMDB_pred = pip.predict(IMDB_test.data)\n",
        "print(\"Prediction Runtime: %s seconds\" % (time.time() - start_time))\n",
        "\n",
        "# Compute test set accuracy\n",
        "test_accuracy = np.mean(IMDB_pred==IMDB_test.target)\n",
        "print(\"Test Set Accuracy: {0}\".format(test_accuracy))"
      ],
      "execution_count": null,
      "outputs": [
        {
          "output_type": "stream",
          "text": [
            "10-Cross Validation Runtime: 153.20181560516357 seconds\n",
            "Validation Set Accuracy: 0.89876\n",
            "Training Runtime: 16.825008869171143 seconds\n",
            "Prediction Runtime: 6.59518575668335 seconds\n",
            "Test Set Accuracy: 0.88536\n"
          ],
          "name": "stdout"
        }
      ]
    }
  ]
}